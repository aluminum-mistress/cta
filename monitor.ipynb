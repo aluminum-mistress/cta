{
 "cells": [
  {
   "cell_type": "code",
   "execution_count": 1,
   "id": "05165da7",
   "metadata": {
    "ExecuteTime": {
     "end_time": "2021-12-06T04:00:51.393804Z",
     "start_time": "2021-12-06T04:00:50.020819Z"
    }
   },
   "outputs": [],
   "source": [
    "import ccxt\n",
    "from datetime import datetime\n",
    "from datetime import date\n",
    "import time\n",
    "import pandas as pd\n",
    "\n",
    "binance = ccxt.binance()\n",
    "okex = ccxt.okex()\n",
    "huobi = ccxt.huobi\n",
    "ftx=ccxt.ftx()\n",
    "coinbasepro = ccxt.coinbasepro()\n",
    "cmc = ccxt.coinmarketcap"
   ]
  },
  {
   "cell_type": "code",
   "execution_count": null,
   "id": "4a50c9c5",
   "metadata": {
    "ExecuteTime": {
     "start_time": "2021-12-06T04:00:49.053Z"
    },
    "code_folding": []
   },
   "outputs": [],
   "source": [
    "while True:\n",
    "    \n",
    "    now_time = time.localtime()\n",
    "    now_hour = now_time[3]\n",
    "    now_min = now_time[4]\n",
    "    now_sec = now_time[5]\n",
    "\n",
    "    if now_hour == 2\\\n",
    "    or now_hour == 10\\\n",
    "    or now_hour == 18\\\n",
    "    and now_min == 1:\n",
    "        \n",
    "        now_ms = round(time.time()*1000)\n",
    "        df = pd.read_csv ('./data/BinanceFundingRate.csv')\n",
    "        df3 = pd.DataFrame(binance.fapiPublicGetFundingrate())\n",
    "        df3 = df3['fundingRate'].tolist()\n",
    "        df[now_ms] = df3\n",
    "        df.to_csv('./data/BinanceFundingRate.csv',index=False)\n",
    "        print(now_ms)\n",
    "        time.sleep(100)\n",
    "        "
   ]
  }
 ],
 "metadata": {
  "kernelspec": {
   "display_name": "Python 3 (ipykernel)",
   "language": "python",
   "name": "python3"
  },
  "language_info": {
   "codemirror_mode": {
    "name": "ipython",
    "version": 3
   },
   "file_extension": ".py",
   "mimetype": "text/x-python",
   "name": "python",
   "nbconvert_exporter": "python",
   "pygments_lexer": "ipython3",
   "version": "3.9.0"
  }
 },
 "nbformat": 4,
 "nbformat_minor": 5
}
