{
 "cells": [
  {
   "cell_type": "code",
   "execution_count": 1,
   "id": "4f5d92a2",
   "metadata": {
    "ExecuteTime": {
     "end_time": "2021-11-29T08:12:18.208628Z",
     "start_time": "2021-11-29T08:12:17.487813Z"
    }
   },
   "outputs": [],
   "source": [
    "from binance.client import Client\n",
    "import sqlalchemy\n",
    "import pandas as pd\n",
    "import numpy as np\n",
    "import math\n",
    "from binance import BinanceSocketManager\n",
    "from binance.exceptions import BinanceAPIException\n",
    "import time\n",
    "import os"
   ]
  },
  {
   "cell_type": "code",
   "execution_count": 2,
   "id": "530f819f",
   "metadata": {
    "ExecuteTime": {
     "end_time": "2021-11-29T08:12:18.454722Z",
     "start_time": "2021-11-29T08:12:18.211096Z"
    },
    "scrolled": false
   },
   "outputs": [],
   "source": [
    "api_key='Gu9ivmske8eTf0Z5an7DgCTD0XYPdjjzDQ4tpGw7laiaGlkDR1suXU2O7yKOmkDe' #arthur\n",
    "api_secret='BeNGcapE19jdFyIdKZufpnLlcfOlFYzGS4JJf8egXeVtRCzdJvXuib0vQ7t1IryX'\n",
    "client=Client(api_key, api_secret)"
   ]
  },
  {
   "cell_type": "code",
   "execution_count": 3,
   "id": "726f8cff",
   "metadata": {
    "ExecuteTime": {
     "end_time": "2021-11-29T08:12:18.470047Z",
     "start_time": "2021-11-29T08:12:18.456130Z"
    },
    "scrolled": true
   },
   "outputs": [],
   "source": [
    "bsm = BinanceSocketManager(client)"
   ]
  },
  {
   "cell_type": "code",
   "execution_count": 4,
   "id": "864487cc",
   "metadata": {
    "ExecuteTime": {
     "end_time": "2021-11-29T08:12:18.485181Z",
     "start_time": "2021-11-29T08:12:18.471041Z"
    }
   },
   "outputs": [],
   "source": [
    "pair = 'ETHUSDT'"
   ]
  },
  {
   "cell_type": "code",
   "execution_count": 5,
   "id": "6c1a7a84",
   "metadata": {
    "ExecuteTime": {
     "end_time": "2021-11-29T08:12:18.500360Z",
     "start_time": "2021-11-29T08:12:18.486176Z"
    },
    "scrolled": false
   },
   "outputs": [],
   "source": [
    "socket = bsm.kline_socket(pair,'1m')"
   ]
  },
  {
   "cell_type": "code",
   "execution_count": 6,
   "id": "99d55011",
   "metadata": {
    "ExecuteTime": {
     "end_time": "2021-11-29T08:12:18.515960Z",
     "start_time": "2021-11-29T08:12:18.501792Z"
    }
   },
   "outputs": [],
   "source": [
    "engine = sqlalchemy.create_engine('sqlite:///'+pair+'stream.db')"
   ]
  },
  {
   "cell_type": "code",
   "execution_count": 7,
   "id": "5649af3c",
   "metadata": {
    "ExecuteTime": {
     "end_time": "2021-11-29T08:12:18.531166Z",
     "start_time": "2021-11-29T08:12:18.516987Z"
    },
    "code_folding": [],
    "scrolled": true
   },
   "outputs": [],
   "source": [
    "def createframe(msg):\n",
    "    #df = pd.DataFrame([msg])\n",
    "    #df = df.loc[:,['E','p']]\n",
    "    #df.columns = ['Time','price']\n",
    "    df = pd.DataFrame.from_dict(dict([('Time',[msg['E']]),('Close',[msg['k']['c']])]))\n",
    "    df['Time'] = pd.to_datetime(df['Time'], unit='ms' ) #Untested\n",
    "    df['Close'] = float(df['Close'])\n",
    "    #df['Benchmark'] = df['Close']\n",
    "    df=df.iloc[:,:2]\n",
    "    df.columns=['Time','Close']\n",
    "    #count = df.count\n",
    "    #if count == 0 or count == 1:\n",
    "    #    df['Benchmark']=df['Benchmark'].replace([df['Close']],'bruh')\n",
    "    #else:\n",
    "    #    try: \n",
    "    #        if df.iloc[-1, 3] > df.iloc[-2, 3]: \n",
    "    #            df['Benchmark'] = df['Benchmark'].replace([df['Close']],df.iloc[-2, 3])\n",
    "    #    except:\n",
    "    #        df['Benchmark']=df['Close']\n",
    "    return df"
   ]
  },
  {
   "cell_type": "code",
   "execution_count": null,
   "id": "4267ebd2",
   "metadata": {
    "ExecuteTime": {
     "start_time": "2021-11-29T08:12:17.482Z"
    }
   },
   "outputs": [
    {
     "name": "stdout",
     "output_type": "stream",
     "text": [
      "                     Time    Close\n",
      "0 2021-11-29 08:12:17.254  4330.65\n",
      "                     Time    Close\n",
      "0 2021-11-29 08:12:19.582  4330.64\n",
      "                     Time    Close\n",
      "0 2021-11-29 08:12:19.582  4330.64\n",
      "                     Time    Close\n",
      "0 2021-11-29 08:12:21.682  4331.74\n",
      "                     Time    Close\n",
      "0 2021-11-29 08:12:21.682  4331.74\n",
      "                     Time    Close\n",
      "0 2021-11-29 08:12:23.711  4330.99\n",
      "                     Time    Close\n",
      "0 2021-11-29 08:12:23.711  4330.99\n",
      "                     Time    Close\n",
      "0 2021-11-29 08:12:25.871  4330.99\n",
      "                     Time    Close\n",
      "0 2021-11-29 08:12:25.871  4330.99\n",
      "                     Time    Close\n",
      "0 2021-11-29 08:12:27.954  4334.58\n",
      "                     Time    Close\n",
      "0 2021-11-29 08:12:27.954  4334.58\n"
     ]
    }
   ],
   "source": [
    "while True:\n",
    "    await socket.__aenter__()\n",
    "    msg = await socket.recv()\n",
    "    frame = createframe(msg)\n",
    "    frame.to_sql('ETHUSDT', engine, if_exists='append', index=False)\n",
    "    print(frame)"
   ]
  }
 ],
 "metadata": {
  "kernelspec": {
   "display_name": "Python 3 (ipykernel)",
   "language": "python",
   "name": "python3"
  },
  "language_info": {
   "codemirror_mode": {
    "name": "ipython",
    "version": 3
   },
   "file_extension": ".py",
   "mimetype": "text/x-python",
   "name": "python",
   "nbconvert_exporter": "python",
   "pygments_lexer": "ipython3",
   "version": "3.9.7"
  },
  "varInspector": {
   "cols": {
    "lenName": 16,
    "lenType": 16,
    "lenVar": 40
   },
   "kernels_config": {
    "python": {
     "delete_cmd_postfix": "",
     "delete_cmd_prefix": "del ",
     "library": "var_list.py",
     "varRefreshCmd": "print(var_dic_list())"
    },
    "r": {
     "delete_cmd_postfix": ") ",
     "delete_cmd_prefix": "rm(",
     "library": "var_list.r",
     "varRefreshCmd": "cat(var_dic_list()) "
    }
   },
   "types_to_exclude": [
    "module",
    "function",
    "builtin_function_or_method",
    "instance",
    "_Feature"
   ],
   "window_display": false
  }
 },
 "nbformat": 4,
 "nbformat_minor": 5
}
