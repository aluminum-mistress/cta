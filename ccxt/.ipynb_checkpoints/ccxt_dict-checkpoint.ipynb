{
 "cells": [
  {
   "cell_type": "code",
   "execution_count": 1,
   "id": "a78d39bc",
   "metadata": {
    "ExecuteTime": {
     "end_time": "2021-12-02T10:57:38.360722Z",
     "start_time": "2021-12-02T10:57:38.177662Z"
    }
   },
   "outputs": [],
   "source": [
    "import ccxt\n",
    "binance = ccxt.binance()\n",
    "okex = ccxt.okex()\n",
    "huobi = ccxt.huobi\n",
    "ftx=ccxt.ftx()\n",
    "coinbasepro = ccxt.coinbasepro()\n",
    "cmc = ccxt.coinmarketcap"
   ]
  },
  {
   "cell_type": "code",
   "execution_count": 2,
   "id": "ca9dc68a",
   "metadata": {
    "ExecuteTime": {
     "end_time": "2021-12-02T10:57:38.376094Z",
     "start_time": "2021-12-02T10:57:38.361679Z"
    }
   },
   "outputs": [],
   "source": [
    "\n",
    "a = dir(ftx)\n"
   ]
  },
  {
   "cell_type": "code",
   "execution_count": 5,
   "id": "d65e5549",
   "metadata": {
    "ExecuteTime": {
     "end_time": "2021-12-02T10:58:10.189024Z",
     "start_time": "2021-12-02T10:58:10.184036Z"
    }
   },
   "outputs": [],
   "source": [
    "with open('ccxt_ftx.txt', 'w') as f:\n",
    "    f.write(str(a))"
   ]
  }
 ],
 "metadata": {
  "kernelspec": {
   "display_name": "Python 3 (ipykernel)",
   "language": "python",
   "name": "python3"
  },
  "language_info": {
   "codemirror_mode": {
    "name": "ipython",
    "version": 3
   },
   "file_extension": ".py",
   "mimetype": "text/x-python",
   "name": "python",
   "nbconvert_exporter": "python",
   "pygments_lexer": "ipython3",
   "version": "3.9.7"
  }
 },
 "nbformat": 4,
 "nbformat_minor": 5
}
